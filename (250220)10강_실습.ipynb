{
  "nbformat": 4,
  "nbformat_minor": 0,
  "metadata": {
    "colab": {
      "provenance": [],
      "toc_visible": true,
      "authorship_tag": "ABX9TyMdmB8SCym7fI5sfLGtnEev",
      "include_colab_link": true
    },
    "kernelspec": {
      "name": "python3",
      "display_name": "Python 3"
    },
    "language_info": {
      "name": "python"
    }
  },
  "cells": [
    {
      "cell_type": "markdown",
      "metadata": {
        "id": "view-in-github",
        "colab_type": "text"
      },
      "source": [
        "<a href=\"https://colab.research.google.com/github/choi-danbi/Deeplearning-for-everyone/blob/main/(250220)10%EA%B0%95_%EC%8B%A4%EC%8A%B5.ipynb\" target=\"_parent\"><img src=\"https://colab.research.google.com/assets/colab-badge.svg\" alt=\"Open In Colab\"/></a>"
      ]
    },
    {
      "cell_type": "markdown",
      "source": [
        "# [폐암 수술 환자의 생존율 예측하기]\n"
      ],
      "metadata": {
        "id": "XdhKdhPNALk2"
      }
    },
    {
      "cell_type": "code",
      "execution_count": 1,
      "metadata": {
        "colab": {
          "base_uri": "https://localhost:8080/"
        },
        "id": "ClnZ_UQOAD9R",
        "outputId": "885214a1-b534-4249-ebe7-c62aac66f639"
      },
      "outputs": [
        {
          "output_type": "stream",
          "name": "stdout",
          "text": [
            "Cloning into 'data'...\n",
            "remote: Enumerating objects: 36, done.\u001b[K\n",
            "remote: Counting objects: 100% (36/36), done.\u001b[K\n",
            "remote: Compressing objects: 100% (29/29), done.\u001b[K\n",
            "remote: Total 36 (delta 9), reused 26 (delta 4), pack-reused 0 (from 0)\u001b[K\n",
            "Receiving objects: 100% (36/36), 483.12 KiB | 3.86 MiB/s, done.\n",
            "Resolving deltas: 100% (9/9), done.\n"
          ]
        }
      ],
      "source": [
        "#텐서플로 라이브러리 안에 있는 케라스 API에서 필요한 함수들을 불러온다\n",
        "from tensorflow.keras.models import Sequential\n",
        "from tensorflow.keras.layers import Dense\n",
        "\n",
        "#데이터를 다루는 데 필요한 라이브러리 import\n",
        "import numpy as np\n",
        "import matplotlib.pyplot as plt\n",
        "\n",
        "#데이터 다운\n",
        "!git clone https://github.com/taehojo/data.git\n",
        "\n",
        "#데이터 불러오기\n",
        "Data_set = np.loadtxt(\"./data/ThoraricSurgery3.csv\", delimiter=\",\")\n",
        "\n",
        "X = Data_set[:,0:16]\n",
        "y = Data_set[:,16]"
      ]
    },
    {
      "cell_type": "markdown",
      "source": [
        "1. Sequential()함수   \n",
        "은닉층은 Sequential()함수를 통해 쉽게 구현된다.  \n",
        "Sequential 함수를 model로 선언해 놓고, model.add()라는 라인을 추가하면 새로운 층이 만들어진다.  "
      ],
      "metadata": {
        "id": "vjaKS2sDTIp4"
      }
    },
    {
      "cell_type": "markdown",
      "source": [
        "2. 은닉층과 출력층  \n",
        "밑의 코드에는 model.add()로 시작되는 라인이 두 개 있으니, 즉 층을 두개 가진 모델을 만든것이다. 맨 마지막 층은 출력층이기 때문에 지금 만들어진 두개의 층은 각각 은닉층과 출력층을 의미한다."
      ],
      "metadata": {
        "id": "aFpwLgaXVXF8"
      }
    },
    {
      "cell_type": "markdown",
      "source": [
        "3. model.add(Dense(30, input_dim = 16))  \n",
        "새로운 층을 만들고 나면 Dense()함수의 첫번째 인자에 만들 노드 개수를 적어준다.  \n",
        "이때 노드는 '가중합'에 해당하는것이다. 또한 input_dim은 입력 데이터에서 몇개의 값을 가져올지 정하는것이다.  \n",
        "즉, 이 코드에서는 데이터에서 값을 16개 받아 은닉층의 노드 30개로 보낸다는 의미이다."
      ],
      "metadata": {
        "id": "CsthnCGXV1Lv"
      }
    },
    {
      "cell_type": "markdown",
      "source": [
        "4. model.add(Dense(1, activation='sigmoid'))  \n",
        "출력층에 해당하므로 출력값을 하나로 정해서 보여줘야하기 때문에 출력층의 노드 수는 한 개이다.  \n",
        "또한 이 노드에서 입력받은 값은 활성화 함수를 거쳐 최종 출력값으로 나와야하므로 활성화 함수로 sigmoid를 활용했다."
      ],
      "metadata": {
        "id": "Z_vpetMwWJSd"
      }
    },
    {
      "cell_type": "code",
      "source": [
        "#딥러닝 모델 구조 결정\n",
        "model = Sequential()\n",
        "model.add(Dense(30, input_dim=16, activation='relu'))\n",
        "model.add(Dense(1, activation='sigmoid'))"
      ],
      "metadata": {
        "colab": {
          "base_uri": "https://localhost:8080/"
        },
        "id": "6654MJnVBKaY",
        "outputId": "05eb8685-8f9a-4ce0-bb56-d5050fbe8880"
      },
      "execution_count": 2,
      "outputs": [
        {
          "output_type": "stream",
          "name": "stderr",
          "text": [
            "/usr/local/lib/python3.11/dist-packages/keras/src/layers/core/dense.py:87: UserWarning: Do not pass an `input_shape`/`input_dim` argument to a layer. When using Sequential models, prefer using an `Input(shape)` object as the first layer in the model instead.\n",
            "  super().__init__(activity_regularizer=activity_regularizer, **kwargs)\n"
          ]
        }
      ]
    },
    {
      "cell_type": "markdown",
      "source": [
        "1. loss  \n",
        "먼저 오차함수를 선택해야한다.  \n",
        "폐암 수술 환자의 생존율 예측은 생존과 사망, 둘 중 하나를 예측하기 때문에 binary_crossentropy를 선택했다.\n",
        "2. 그 외  \n",
        "현재 가장 많이 쓰는 옵티마이저는 adam이다. 또한 metrics()함수는 모델이 컴파일될 때 모델 수행의 결과를 나타내게끔 설정하는 부분이다.  \n",
        "여기서 accuracy라고 설정한것은 학습셋에 대한 정확도에 기반해 결과를 출력하라는 의미이다."
      ],
      "metadata": {
        "id": "-rXjCyYvWlOP"
      }
    },
    {
      "cell_type": "code",
      "source": [
        "#딥러닝 모델 실행\n",
        "model.compile(loss='binary_crossentropy', optimizer='adam', metrics=['accuracy'])\n",
        "history=model.fit(X, y, epochs=5, batch_size=16)"
      ],
      "metadata": {
        "colab": {
          "base_uri": "https://localhost:8080/"
        },
        "id": "kkYczY-wBoIP",
        "outputId": "8f766138-bdea-48fd-d08e-ec7b7ac4ef40"
      },
      "execution_count": 3,
      "outputs": [
        {
          "output_type": "stream",
          "name": "stdout",
          "text": [
            "Epoch 1/5\n",
            "\u001b[1m30/30\u001b[0m \u001b[32m━━━━━━━━━━━━━━━━━━━━\u001b[0m\u001b[37m\u001b[0m \u001b[1m2s\u001b[0m 4ms/step - accuracy: 0.1641 - loss: 5.1273\n",
            "Epoch 2/5\n",
            "\u001b[1m30/30\u001b[0m \u001b[32m━━━━━━━━━━━━━━━━━━━━\u001b[0m\u001b[37m\u001b[0m \u001b[1m0s\u001b[0m 4ms/step - accuracy: 0.8358 - loss: 0.7373\n",
            "Epoch 3/5\n",
            "\u001b[1m30/30\u001b[0m \u001b[32m━━━━━━━━━━━━━━━━━━━━\u001b[0m\u001b[37m\u001b[0m \u001b[1m0s\u001b[0m 4ms/step - accuracy: 0.8177 - loss: 0.6434\n",
            "Epoch 4/5\n",
            "\u001b[1m30/30\u001b[0m \u001b[32m━━━━━━━━━━━━━━━━━━━━\u001b[0m\u001b[37m\u001b[0m \u001b[1m0s\u001b[0m 4ms/step - accuracy: 0.8233 - loss: 0.5057\n",
            "Epoch 5/5\n",
            "\u001b[1m30/30\u001b[0m \u001b[32m━━━━━━━━━━━━━━━━━━━━\u001b[0m\u001b[37m\u001b[0m \u001b[1m0s\u001b[0m 4ms/step - accuracy: 0.8600 - loss: 0.4092\n"
          ]
        }
      ]
    },
    {
      "cell_type": "code",
      "source": [
        "# 학습 과정 시각화\n",
        "plt.plot(history.history['accuracy'], label='Accuracy')\n",
        "plt.plot(history.history['loss'], label='Loss')\n",
        "plt.xlabel('Epochs')\n",
        "plt.ylabel('Value')\n",
        "plt.legend()\n",
        "plt.show()"
      ],
      "metadata": {
        "colab": {
          "base_uri": "https://localhost:8080/",
          "height": 449
        },
        "id": "UyJBw0a9BrNZ",
        "outputId": "99479906-8a98-40ff-d27c-37bca28090ba"
      },
      "execution_count": 4,
      "outputs": [
        {
          "output_type": "display_data",
          "data": {
            "text/plain": [
              "<Figure size 640x480 with 1 Axes>"
            ],
            "image/png": "[encoded data removed]"
          },
          "metadata": {}
        }
      ]
    },
    {
      "cell_type": "code",
      "source": [],
      "metadata": {
        "id": "4JOCPbUuCjim"
      },
      "execution_count": null,
      "outputs": []
    }
  ]
}